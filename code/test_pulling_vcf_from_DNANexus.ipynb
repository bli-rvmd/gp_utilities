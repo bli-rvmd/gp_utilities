{
 "cells": [
  {
   "cell_type": "code",
   "execution_count": 5,
   "id": "cbd133ce-a071-40ce-9ba7-e38896816ab4",
   "metadata": {
    "tags": []
   },
   "outputs": [
    {
     "name": "stdout",
     "output_type": "stream",
     "text": [
      "['.ipynb_checkpoints']\n"
     ]
    }
   ],
   "source": [
    "import os\n",
    "folders = [f for f in os.listdir('.') if os.path.isdir(f)]\n",
    "\n",
    "print(folders)\n"
   ]
  },
  {
   "cell_type": "code",
   "execution_count": 13,
   "id": "03ba18aa-48d1-4d94-8a57-482fee04f3e4",
   "metadata": {
    "tags": []
   },
   "outputs": [
    {
     "name": "stdout",
     "output_type": "stream",
     "text": [
      "Attached Project ID: project-GyGQppQ09KP7GzZV90fyBggj\n",
      "project-GyGQppQ09KP7GzZV90fyBggj\n"
     ]
    }
   ],
   "source": [
    "import dxpy\n",
    "\n",
    "# Get the current project ID (should be auto-attached to Jupyter)\n",
    "project = dxpy.DXProject(dxpy.WORKSPACE_ID)\n",
    "print(\"Attached Project ID:\", project.get_id())\n",
    "\n",
    "project_id = dxpy.WORKSPACE_ID\n",
    "print(project_id)\n",
    "\n",
    "data_folder = \"/data\"\n"
   ]
  },
  {
   "cell_type": "code",
   "execution_count": 16,
   "id": "b39c78e8-e203-47be-9e2b-d8b7a5482667",
   "metadata": {
    "tags": []
   },
   "outputs": [
    {
     "name": "stdout",
     "output_type": "stream",
     "text": [
      "Folders in project root: ['/20250128_haunting_grackle', '/failed_run', '/files_scripts_processing', '/rna_outputs', '/wgs_outputs']\n"
     ]
    }
   ],
   "source": [
    "folders = dxpy.api.project_list_folder(project_id, {\"folder\": \"/\"})[\"folders\"]\n",
    "print(\"Folders in project root:\", folders)"
   ]
  },
  {
   "cell_type": "code",
   "execution_count": 18,
   "id": "6958bb44-6371-4a97-b695-4b84c85553f0",
   "metadata": {
    "tags": []
   },
   "outputs": [
    {
     "name": "stdout",
     "output_type": "stream",
     "text": [
      "File: A1_P1_markdup_tnscope.vcf.maf.gz | ID: file-GyYzP8j0pyg3GQXqYFyG2jQq\n",
      "File: A1_P1_markdup_tnscope.vcf.gz.tbi | ID: file-GyYyxxj0q1Jyx8BKBKZqfF1y\n",
      "File: A1_P1_markdup_tnscope.vcf.gz | ID: file-GyYyxxj0q1JgP2J81BYFj3xk\n",
      "File: A1_P1_tumor_markdup.bam.bai | ID: file-GyYp73j0q1JVYPfvPvk8yv8j\n",
      "File: A1_P1_tumor_markdup.bam | ID: file-GyYp73j0q1JgP8QKGVg71FG9\n",
      "File: A1_P1_markdup.cns.reannotated.tsv | ID: file-GyYyvK008XBK9kXBjBb1Yb4p\n",
      "File: A1_P1_markdup.bam.bai | ID: file-GyYvz6008ZXX59108KJ9v3vB\n",
      "File: A1_P1_markdup.bam | ID: file-GyYvz6008ZXqqby4GgV11kX3\n"
     ]
    }
   ],
   "source": [
    "folder_path = \"/wgs_outputs/A1_P1\"\n",
    "files = list(dxpy.find_data_objects(project=project_id, folder=folder_path, return_handler=True))\n",
    "for file in files:\n",
    "    print(\"File:\", file.name, \"| ID:\", file.get_id())"
   ]
  },
  {
   "cell_type": "code",
   "execution_count": 26,
   "id": "90eb3143-cf9b-4b51-98d3-6f4f85c2e5a8",
   "metadata": {
    "tags": []
   },
   "outputs": [
    {
     "name": "stdout",
     "output_type": "stream",
     "text": [
      "file-GyYyxxj0q1JgP2J81BYFj3xk\n",
      "<dxpy.DXFile: A1_P1_markdup_tnscope.vcf.gz (file-GyYyxxj0q1JgP2J81BYFj3xk (project-GyGQppQ09KP7GzZV90fyBggj))>\n"
     ]
    }
   ],
   "source": [
    "file_name = \"A1_P1_markdup_tnscope.vcf.gz\"\n",
    "\n",
    "file_obj = next((f for f in files if f.name == file_name), None)\n",
    "\n",
    "print(file_obj.id)\n",
    "print(file_obj)"
   ]
  },
  {
   "cell_type": "code",
   "execution_count": 28,
   "id": "3005bf6c-e963-45b5-b197-3814517df5ea",
   "metadata": {
    "tags": []
   },
   "outputs": [],
   "source": [
    "dxpy.download_dxfile(file_obj.id, file_name)"
   ]
  },
  {
   "cell_type": "code",
   "execution_count": 31,
   "id": "2934b731-db1f-45bf-bfab-2b986d518836",
   "metadata": {
    "tags": []
   },
   "outputs": [
    {
     "name": "stdout",
     "output_type": "stream",
     "text": [
      "--2025-03-04 20:06:51--  https://ftp.ensembl.org/pub/release-106/variation/vcf/mus_musculus/mus_musculus.vcf.gz\n",
      "Resolving ftp.ensembl.org (ftp.ensembl.org)... 193.62.193.169\n",
      "Connecting to ftp.ensembl.org (ftp.ensembl.org)|193.62.193.169|:443... connected.\n",
      "HTTP request sent, awaiting response... 200 OK\n",
      "Length: 907911627 (866M) [application/x-gzip]\n",
      "Saving to: ‘mus_musculus.vcf.gz’\n",
      "\n",
      "mus_musculus.vcf.gz 100%[===================>] 865.85M  77.3MB/s    in 10s     \n",
      "\n",
      "2025-03-04 20:07:02 (86.3 MB/s) - ‘mus_musculus.vcf.gz’ saved [907911627/907911627]\n",
      "\n"
     ]
    }
   ],
   "source": [
    "!wget https://ftp.ensembl.org/pub/release-106/variation/vcf/mus_musculus/mus_musculus.vcf.gz"
   ]
  },
  {
   "cell_type": "code",
   "execution_count": 32,
   "id": "046575c4-ebc3-4216-a3ab-8b5dbbcffab5",
   "metadata": {
    "tags": []
   },
   "outputs": [
    {
     "name": "stdout",
     "output_type": "stream",
     "text": [
      "Collecting pysam\n",
      "  Downloading pysam-0.23.0-cp311-cp311-manylinux_2_28_x86_64.whl.metadata (1.6 kB)\n",
      "Downloading pysam-0.23.0-cp311-cp311-manylinux_2_28_x86_64.whl (26.0 MB)\n",
      "\u001b[2K   \u001b[90m━━━━━━━━━━━━━━━━━━━━━━━━━━━━━━━━━━━━━━━━\u001b[0m \u001b[32m26.0/26.0 MB\u001b[0m \u001b[31m173.4 MB/s\u001b[0m eta \u001b[36m0:00:00\u001b[0m\n",
      "\u001b[?25hInstalling collected packages: pysam\n",
      "Successfully installed pysam-0.23.0\n",
      "\u001b[33mWARNING: Running pip as the 'root' user can result in broken permissions and conflicting behaviour with the system package manager, possibly rendering your system unusable.It is recommended to use a virtual environment instead: https://pip.pypa.io/warnings/venv. Use the --root-user-action option if you know what you are doing and want to suppress this warning.\u001b[0m\u001b[33m\n",
      "\u001b[0m"
     ]
    }
   ],
   "source": [
    "!pip install pysam"
   ]
  },
  {
   "cell_type": "code",
   "execution_count": 33,
   "id": "c095a73b-de1f-4f50-ac6d-a0e04537115d",
   "metadata": {
    "tags": []
   },
   "outputs": [],
   "source": [
    "import pysam\n",
    "import pandas as pd"
   ]
  },
  {
   "cell_type": "code",
   "execution_count": 34,
   "id": "c62744a0-15ab-4682-bfbd-9f1518ce61aa",
   "metadata": {
    "tags": []
   },
   "outputs": [
    {
     "name": "stdout",
     "output_type": "stream",
     "text": [
      "['.ipynb_checkpoints', 'Untitled1.ipynb', 'test.ipynb', 'A1_P1_markdup_tnscope.vcf.gz', 'mus_musculus.vcf.gz']\n"
     ]
    }
   ],
   "source": [
    "print(os.listdir())"
   ]
  },
  {
   "cell_type": "code",
   "execution_count": 35,
   "id": "b77bd2d1-dd58-4bad-a036-64896a100bd9",
   "metadata": {
    "tags": []
   },
   "outputs": [],
   "source": [
    "vcf = pysam.VariantFile(\"A1_P1_markdup_tnscope.vcf.gz\")"
   ]
  },
  {
   "cell_type": "code",
   "execution_count": 38,
   "id": "cde3a1c0-eb91-4bfb-8a5f-e6fd1642f2fb",
   "metadata": {
    "tags": []
   },
   "outputs": [],
   "source": [
    "def read_vcf_snvs(vcf_path):\n",
    "    \"\"\"\n",
    "    Reads a VCF file and extracts only SNVs (Single Nucleotide Variants).\n",
    "    Returns a DataFrame with CHROM, POS, REF, ALT.\n",
    "    \"\"\"\n",
    "    vcf = pysam.VariantFile(vcf_path)  # Open VCF\n",
    "    snv_list = []\n",
    "\n",
    "    for record in vcf:\n",
    "        # Ensure both REF and ALT are single nucleotides (SNV)\n",
    "        if len(record.ref) == 1 and all(len(alt) == 1 for alt in record.alts):\n",
    "            for alt in record.alts:\n",
    "                snv_list.append([record.chrom, record.pos, record.ref, alt])\n",
    "\n",
    "    return pd.DataFrame(snv_list, columns=[\"CHROM\", \"POS\", \"REF\", \"ALT\"])\n",
    "\n",
    "\n",
    "def filter_somatic_snvs(sample_vcf, germline_vcf, output_vcf):\n",
    "    \"\"\"\n",
    "    Filters out known germline SNVs from the sample VCF.\n",
    "    Saves a new VCF file with only somatic SNVs.\n",
    "    \"\"\"\n",
    "    # Read SNVs from sample and germline VCFs\n",
    "    sample_snvs = read_vcf_snvs(sample_vcf)\n",
    "    germline_snvs = read_vcf_snvs(germline_vcf)\n",
    "\n",
    "    # Perform an anti-join (remove known germline SNVs)\n",
    "    somatic_snvs = sample_snvs.merge(germline_snvs, on=[\"CHROM\", \"POS\", \"REF\", \"ALT\"], how=\"left\", indicator=True)\n",
    "    somatic_snvs = somatic_snvs[somatic_snvs[\"_merge\"] == \"left_only\"].drop(columns=[\"_merge\"])\n",
    "\n",
    "    # Read original sample VCF for metadata retention\n",
    "    vcf_in = pysam.VariantFile(sample_vcf)\n",
    "    vcf_out = pysam.VariantFile(output_vcf, \"w\", header=vcf_in.header)\n",
    "\n",
    "    # Write only somatic SNVs to the new VCF\n",
    "    for record in vcf_in:\n",
    "        if [record.chrom, record.pos, record.ref, record.alts[0]] in somatic_snvs.values.tolist():\n",
    "            vcf_out.write(record)\n",
    "\n",
    "    vcf_out.close()\n",
    "    print(f\"Filtered somatic SNVs VCF saved to: {output_vcf}\")"
   ]
  },
  {
   "cell_type": "code",
   "execution_count": 37,
   "id": "5e1efbc8-1250-4beb-9c8b-2e8f74ed4f03",
   "metadata": {
    "tags": []
   },
   "outputs": [
    {
     "name": "stdout",
     "output_type": "stream",
     "text": [
      "filtered_A1_P1_markdup_tnscope.vcf.gz\n"
     ]
    }
   ],
   "source": [
    "sample_vcf_path = \"A1_P1_markdup_tnscope.vcf.gz\"\n",
    "germline_vcf_path = \"mus_musculus.vcf.gz\"\n",
    "output_vcf_path = \"filtered_\" + sample_vcf_path\n",
    "print(output_vcf_path)"
   ]
  },
  {
   "cell_type": "code",
   "execution_count": null,
   "id": "ee4ec5ad-4d84-473c-89d0-6c7a695cef2a",
   "metadata": {
    "tags": []
   },
   "outputs": [],
   "source": [
    "filter_somatic_snvs(sample_vcf_path, germline_vcf_path, output_vcf_path)"
   ]
  }
 ],
 "metadata": {
  "kernelspec": {
   "display_name": "Python 3 (ipykernel)",
   "language": "python",
   "name": "python3"
  },
  "language_info": {
   "codemirror_mode": {
    "name": "ipython",
    "version": 3
   },
   "file_extension": ".py",
   "mimetype": "text/x-python",
   "name": "python",
   "nbconvert_exporter": "python",
   "pygments_lexer": "ipython3",
   "version": "3.11.5"
  }
 },
 "nbformat": 4,
 "nbformat_minor": 5
}
